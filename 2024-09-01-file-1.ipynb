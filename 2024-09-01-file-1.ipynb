{
 "cells": [
  {
   "cell_type": "code",
   "execution_count": 9,
   "id": "5c3829",
   "metadata": {
    "collapsed": false
   },
   "outputs": [
    {
     "name": "stdout",
     "output_type": "stream",
     "text": [
      "\\begin{table}[h]\n",
      "\\centering\n",
      "\\begin{tabular}{|c|c|c|c|c|c|c|c|}\n",
      "\\hline\n",
      "n \\ k & 2 & 3 & 4 & 5 & 6 & 7 & 8 \\\\\n",
      "\\hline\n",
      "1 & $1$ & $1$ & $1$ & $1$ & $1$ & $1$ & $1$ \\\\\n",
      "\\hline\n",
      "2 & $1/2$ & $3/2$ & $3/2$ & $3/2$ & $3/2$ & $3/2$ & $3/2$ \\\\\n",
      "\\hline\n",
      "3 & $1/3$ & $5/3$ & $8/3$ & $8/3$ & $8/3$ & $8/3$ & $8/3$ \\\\\n",
      "\\hline\n",
      "4 & $5/24$ & $25/12$ & $101/24$ & $125/24$ & $125/24$ & $125/24$ & $125/24$ \\\\\n",
      "\\hline\n",
      "5 & $2/15$ & $53/20$ & $104/15$ & $49/5$ & $54/5$ & $54/5$ & $54/5$ \\\\\n",
      "\\hline\n",
      "6 & $61/720$ & $119/36$ & $927/80$ & $13517/720$ & $16087/720$ & $16807/720$ & $16807/720$ \\\\\n",
      "\\hline\n",
      "7 & $17/315$ & $2089/504$ & $6116/315$ & $182989/5040$ & $5893/126$ & $16069/315$ & $16384/315$ \\\\\n",
      "\\hline\n",
      "\\end{tabular}\n",
      "\\caption{Volumes of polytopes for different values of \\( k \\) and \\( n \\).}\n",
      "\\label{tab:volumes}\n",
      "\\end{table}\n"
     ]
    }
   ],
   "source": [
    "from sage.geometry.polyhedron.constructor import Polyhedron\n",
    "\n",
    "def generate_k_fibonacci_words_vectors(k, n):\n",
    "    \"\"\"\n",
    "    Generate all k-generalized Fibonacci words of length n and their corresponding vectors.\n",
    "    \"\"\"\n",
    "    if n == 0:\n",
    "        return [], []\n",
    "\n",
    "    vectors = []\n",
    "    words = []\n",
    "\n",
    "    def backtrack(word):\n",
    "        if len(word) == n:\n",
    "            vector = tuple(int(char) for char in word)\n",
    "            vectors.append(vector[1:])  # Append vector excluding the first entry\n",
    "            words.append(word)  # Append the generated word\n",
    "            return\n",
    "\n",
    "        if len(word) == 0:\n",
    "            candidates = [str(k)]\n",
    "        else:\n",
    "            last_char = int(word[-1])\n",
    "            if last_char == k:\n",
    "                candidates = [str(k), str(k-1)]\n",
    "            elif last_char == 1:\n",
    "                candidates = [str(k)]\n",
    "            else:\n",
    "                candidates = [str(last_char - 1), str(k)]\n",
    "\n",
    "        for c in candidates:\n",
    "            backtrack(word + c)\n",
    "\n",
    "    backtrack('')\n",
    "    return vectors, words\n",
    "\n",
    "def calculate_volumes_table(k_values, n_values):\n",
    "    \"\"\"\n",
    "    Calculate the volumes of the polytopes for different values of k and n and return the results as a LaTeX table.\n",
    "    \"\"\"\n",
    "    # Initialize the table with headers\n",
    "    results = [[\"n \\\\ k\"] + [str(k) for k in k_values]]\n",
    "    \n",
    "    for n in n_values:\n",
    "        row = [str(n)]\n",
    "        for k in k_values:\n",
    "            vectors, _ = generate_k_fibonacci_words_vectors(k, n+1)\n",
    "            if vectors:\n",
    "                try:\n",
    "                    P = Polyhedron(vertices=vectors)\n",
    "                    volume = P.volume()  # Volume is a Rational number\n",
    "                    row.append(f\"${volume}$\")\n",
    "                except Exception as e:\n",
    "                    row.append(f\"Error: {e}\")\n",
    "            else:\n",
    "                row.append(\"No polytope\")\n",
    "        results.append(row)\n",
    "\n",
    "    return results\n",
    "\n",
    "def display_latex_table(results):\n",
    "    \"\"\"\n",
    "    Display the table of volumes in LaTeX format.\n",
    "    \"\"\"\n",
    "    num_columns = len(results[0])\n",
    "    print(r\"\\begin{table}[h]\")\n",
    "    print(r\"\\centering\")\n",
    "    print(r\"\\begin{tabular}{\" + \"|\" + \"c|\" * num_columns + r\"}\")\n",
    "    print(r\"\\hline\")\n",
    "    \n",
    "    for row in results:\n",
    "        print(\" & \".join(row) + r\" \\\\\")\n",
    "        print(r\"\\hline\")\n",
    "    \n",
    "    print(r\"\\end{tabular}\")\n",
    "    print(r\"\\caption{Volumes of polytopes for different values of \\( k \\) and \\( n \\).}\")\n",
    "    print(r\"\\label{tab:volumes}\")\n",
    "    print(r\"\\end{table}\")\n",
    "\n",
    "# Specify the ranges for k and n\n",
    "k_values = range(2, 9)  # You can modify this range as needed\n",
    "n_values = range(1, 8)  # You can modify this range as needed\n",
    "\n",
    "# Generate the table with volumes\n",
    "volume_table = calculate_volumes_table(k_values, n_values)\n",
    "\n",
    "# Display the table in LaTeX format\n",
    "display_latex_table(volume_table)\n"
   ]
  },
  {
   "cell_type": "code",
   "execution_count": 0,
   "id": "5a8faa",
   "metadata": {
    "collapsed": false
   },
   "outputs": [
   ],
   "source": [
   ]
  }
 ],
 "metadata": {
  "kernelspec": {
   "argv": [
    "sage-10.4",
    "--python",
    "-m",
    "sage.repl.ipython_kernel",
    "--matplotlib=inline",
    "-f",
    "{connection_file}"
   ],
   "display_name": "SageMath 10.4",
   "env": {
   },
   "language": "sagemath",
   "metadata": {
    "cocalc": {
     "description": "Open-source mathematical software system",
     "priority": 10,
     "url": "https://www.sagemath.org/"
    }
   },
   "name": "sage-10.4",
   "resource_dir": "/ext/jupyter/kernels/sage-10.4"
  }
 },
 "nbformat": 4,
 "nbformat_minor": 4
}