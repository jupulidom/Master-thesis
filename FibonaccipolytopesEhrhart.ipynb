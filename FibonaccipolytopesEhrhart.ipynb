{
 "cells": [
  {
   "cell_type": "code",
   "execution_count": 11,
   "id": "bd22a7",
   "metadata": {
    "collapsed": false
   },
   "outputs": [
    {
     "name": "stdout",
     "output_type": "stream",
     "text": [
      "k=2, n=2: Ehrhart Polynomial = t + 1 \n",
      "k=2, n=3: Ehrhart Polynomial = 1/2*t^2 + 3/2*t + 1 \n",
      "k=2, n=4: Ehrhart Polynomial = 1/3*t^3 + 3/2*t^2 + 13/6*t + 1 \n",
      "k=3, n=2: Ehrhart Polynomial = t + 1 \n",
      "k=3, n=3: Ehrhart Polynomial = 3/2*t^2 + 5/2*t + 1 \n",
      "k=3, n=4: Ehrhart Polynomial = 5/3*t^3 + 7/2*t^2 + 17/6*t + 1 \n",
      "k=4, n=2: Ehrhart Polynomial = t + 1 \n",
      "k=4, n=3: Ehrhart Polynomial = 3/2*t^2 + 5/2*t + 1 \n",
      "k=4, n=4: Ehrhart Polynomial = 8/3*t^3 + 6*t^2 + 13/3*t + 1 \n"
     ]
    }
   ],
   "source": [
    "from sage.geometry.polyhedron.constructor import Polyhedron\n",
    "\n",
    "def generate_k_fibonacci_words_vectors(k, n):\n",
    "    if n == 0:\n",
    "        return [], []\n",
    "\n",
    "    vectors = []\n",
    "    words = []\n",
    "\n",
    "    def backtrack(word):\n",
    "        if len(word) == n:\n",
    "            vector = tuple(int(char) for char in word)\n",
    "            vectors.append(vector[1:])  # Append vector excluding the first entry\n",
    "            words.append(word)  # Append the generated word\n",
    "            return\n",
    "\n",
    "        if len(word) == 0:\n",
    "            candidates = [str(k)]\n",
    "        else:\n",
    "            last_char = int(word[-1])\n",
    "            if last_char == k:\n",
    "                candidates = [str(k), str(k-1)]\n",
    "            elif last_char == 1:\n",
    "                candidates = [str(k)]\n",
    "            else:\n",
    "                candidates = [str(last_char - 1), str(k)]\n",
    "\n",
    "        for c in candidates:\n",
    "            backtrack(word + c)\n",
    "\n",
    "    backtrack('')\n",
    "    return vectors, words\n",
    "\n",
    "def calculate_ehrhart_polynomials(k_values, n_values):\n",
    "    \"\"\"\n",
    "    Calculate the Ehrhart polynomials for a range of k and n values and return them as a list of formatted strings.\n",
    "    \"\"\"\n",
    "    results = []\n",
    "\n",
    "    for k in k_values:\n",
    "        for n in n_values:\n",
    "            vectors, _ = generate_k_fibonacci_words_vectors(k, n)\n",
    "            if vectors:\n",
    "                P = Polyhedron(vertices=vectors)\n",
    "                ehrhart_poly = P.ehrhart_polynomial()\n",
    "                factorized_ehrhart_poly = ehrhart_poly.factor()\n",
    "                result = (f\"k={k}, n={n}: \"\n",
    "                         f\"Ehrhart Polynomial = {ehrhart_poly} \")\n",
    "            else:\n",
    "                result = (f\"k={k}, n={n}: \"\n",
    "                          \"Ehrhart Polynomial = No polytope (no vectors), \"\n",
    "                          \"Factorized Ehrhart Polynomial = N/A\")\n",
    "\n",
    "            results.append(result)\n",
    "\n",
    "    return results\n",
    "\n",
    "def display_results(results):\n",
    "    \"\"\"\n",
    "    Display the results in a clear and organized manner.\n",
    "    \"\"\"\n",
    "    for result in results:\n",
    "        print(result)\n",
    "\n",
    "# Specify the ranges for k and n\n",
    "k_values = range(2, 5)  # You can modify this range as needed\n",
    "n_values = range(2, 5)  # You can modify this range as needed\n",
    "\n",
    "# Generate the results with Ehrhart polynomials and their factorizations\n",
    "ehrhart_results = calculate_ehrhart_polynomials(k_values, n_values)\n",
    "\n",
    "# Display the results\n",
    "display_results(ehrhart_results)\n"
   ]
  },
  {
   "cell_type": "code",
   "execution_count": 0,
   "id": "d6d09b",
   "metadata": {
    "collapsed": false
   },
   "outputs": [
   ],
   "source": [
   ]
  }
 ],
 "metadata": {
  "kernelspec": {
   "argv": [
    "sage-10.4",
    "--python",
    "-m",
    "sage.repl.ipython_kernel",
    "--matplotlib=inline",
    "-f",
    "{connection_file}"
   ],
   "display_name": "SageMath 10.4",
   "env": {
   },
   "language": "sagemath",
   "metadata": {
    "cocalc": {
     "description": "Open-source mathematical software system",
     "priority": 10,
     "url": "https://www.sagemath.org/"
    }
   },
   "name": "sage-10.4",
   "resource_dir": "/ext/jupyter/kernels/sage-10.4"
  }
 },
 "nbformat": 4,
 "nbformat_minor": 4
}