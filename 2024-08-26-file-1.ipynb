{
 "cells": [
  {
   "cell_type": "code",
   "execution_count": 0,
   "id": "a51dc8",
   "metadata": {
    "collapsed": false
   },
   "outputs": [
   ],
   "source": [
   ]
  }
 ],
 "metadata": {
  "kernelspec": {
   "argv": [
    "sage-10.3",
    "--python",
    "-m",
    "sage.repl.ipython_kernel",
    "--matplotlib=inline",
    "-f",
    "{connection_file}"
   ],
   "display_name": "SageMath 10.3",
   "env": {
   },
   "language": "sagemath",
   "metadata": {
    "cocalc": {
     "description": "Open-source mathematical software system",
     "priority": 2,
     "url": "https://www.sagemath.org/"
    }
   },
   "name": "sage-10.3",
   "resource_dir": "/ext/jupyter/kernels/sage-10.3"
  }
 },
 "nbformat": 4,
 "nbformat_minor": 4
}