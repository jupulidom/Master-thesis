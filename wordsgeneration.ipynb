{
 "cells": [
  {
   "cell_type": "markdown",
   "id": "73d75e",
   "metadata": {
    "collapsed": false
   },
   "source": [
    "## A continuación generamos las palabras p\\-generalizadas de Fibonacci:\n",
    "\n"
   ]
  },
  {
   "cell_type": "code",
   "execution_count": 17,
   "id": "8fdbc2",
   "metadata": {
    "cocalc": {
     "outputs": {
      "0": {
       "name": "input",
       "opts": {
        "password": false,
        "prompt": "Enter the value of p-generalized Fibonacci words to display: "
       },
       "output_type": "stream",
       "value": "6"
      },
      "1": {
       "name": "input",
       "opts": {
        "password": false,
        "prompt": "Enter the maximum desired length of the Fibonacci words: "
       },
       "output_type": "stream",
       "value": "5"
      }
     }
    },
    "collapsed": false
   },
   "outputs": [
    {
     "name": "stdout",
     "output_type": "stream",
     "text": "Enter the value of p-generalized Fibonacci words to display:  6"
    },
    {
     "name": "stdout",
     "output_type": "stream",
     "text": "Enter the maximum desired length of the Fibonacci words:  5"
    },
    {
     "name": "stdout",
     "output_type": "stream",
     "text": [
      "\n",
      "Generated 6-generalized Fibonacci words:\n",
      "Length 1: 6\n",
      "Length 2: 66, 65\n",
      "Length 3: 666, 665, 654, 656\n",
      "Length 4: 6666, 6665, 6654, 6656, 6543, 6546, 6566, 6565\n",
      "Length 5: 66666, 66665, 66654, 66656, 66543, 66546, 66566, 66565, 65432, 65436, 65466, 65465, 65666, 65665, 65654, 65656\n"
     ]
    }
   ],
   "source": [
    "def generate_p_fibonacci_words(p, n):\n",
    "    table = {}\n",
    "\n",
    "    p = int(p)  # Ensure k is an integer\n",
    "\n",
    "    # Generate words of length from 1 to n\n",
    "    for length in range(1, n + 1):\n",
    "        words = []\n",
    "\n",
    "        def backtrack(word):\n",
    "            if len(word) == length:\n",
    "                words.append(word)  # Append the generated word\n",
    "                return\n",
    "\n",
    "            if len(word) == 0:\n",
    "                # Start with the first possible character, which is str(p)\n",
    "                candidates = [str(p)]\n",
    "            else:\n",
    "                last_char = int(word[-1])\n",
    "                if last_char == p:\n",
    "                    candidates = [str(p), str(p - 1)]\n",
    "                elif last_char == 1:\n",
    "                    candidates = [str(p)]\n",
    "                else:\n",
    "                    candidates = [str(last_char - 1), str(p)]\n",
    "\n",
    "            # Recursively generate all possible words\n",
    "            for c in candidates:\n",
    "                backtrack(word + c)\n",
    "\n",
    "        # Start backtracking from an empty word for the current length\n",
    "        backtrack('')\n",
    "        table[length] = words\n",
    "\n",
    "    return table\n",
    "\n",
    "# Ask for user input\n",
    "p = int(input(\"Enter the value of p-generalized Fibonacci words to display: \"))\n",
    "n = int(input(\"Enter the maximum desired length of the Fibonacci words: \"))\n",
    "\n",
    "# Generate the table of words\n",
    "table = generate_p_fibonacci_words(p, n)\n",
    "\n",
    "# Print the results in a formatted table view\n",
    "print(f\"\\nGenerated {p}-generalized Fibonacci words:\")\n",
    "for length, words in table.items():\n",
    "    words_string = \", \".join(words)  # Join words into a single string separated by commas\n",
    "    print(f\"Length {length}: {words_string}\")\n",
    "\n"
   ]
  },
  {
   "cell_type": "code",
   "execution_count": 0,
   "id": "b0ca6e",
   "metadata": {
    "collapsed": false
   },
   "outputs": [
   ],
   "source": [
   ]
  }
 ],
 "metadata": {
  "kernelspec": {
   "argv": [
    "sage-10.3",
    "--python",
    "-m",
    "sage.repl.ipython_kernel",
    "--matplotlib=inline",
    "-f",
    "{connection_file}"
   ],
   "display_name": "SageMath 10.3",
   "env": {
   },
   "language": "sagemath",
   "metadata": {
    "cocalc": {
     "description": "Open-source mathematical software system",
     "priority": 2,
     "url": "https://www.sagemath.org/"
    }
   },
   "name": "sage-10.3",
   "resource_dir": "/ext/jupyter/kernels/sage-10.3"
  }
 },
 "nbformat": 4,
 "nbformat_minor": 4
}